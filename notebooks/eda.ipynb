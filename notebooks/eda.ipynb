{
 "cells": [
  {
   "cell_type": "code",
   "execution_count": 1,
   "metadata": {},
   "outputs": [],
   "source": [
    "import pandas as pd\n",
    "import matplotlib.pyplot as plt\n",
    "import seaborn as sns\n"
   ]
  },
  {
   "cell_type": "code",
   "execution_count": null,
   "metadata": {},
   "outputs": [],
   "source": [
    "# Load the dataset\n",
    "data = pd.read_csv(\"../data/final_movie_data.csv\")\n",
    "\n",
    "# Display the first few rows of the dataframe\n",
    "print(data.head())\n"
   ]
  },
  {
   "cell_type": "code",
   "execution_count": null,
   "metadata": {},
   "outputs": [],
   "source": [
    "# Get the dimensions of the dataframe\n",
    "print(\"Shape of the dataframe:\", data.shape)\n",
    "\n",
    "# Get information about the columns and data types\n",
    "print(data.info())\n",
    "\n",
    "# Summary statistics for numerical columns\n",
    "print(data.describe())\n",
    "\n",
    "# Count of missing values in each column\n",
    "print(\"Missing values:\\n\", data.isnull().sum())\n"
   ]
  },
  {
   "cell_type": "code",
   "execution_count": null,
   "metadata": {},
   "outputs": [],
   "source": [
    "# Histogram of a numerical column\n",
    "plt.hist(data['popularity'], bins=20)\n",
    "plt.xlabel('popularity')\n",
    "plt.ylabel('Frequency')\n",
    "plt.title('Histogram of Column Name')\n",
    "plt.show()\n",
    "\n",
    "# Bar plot of a categorical column\n",
    "sns.countplot(data['genres_1_name'])\n",
    "plt.xlabel('genres_1_name')\n",
    "plt.ylabel('Count')\n",
    "plt.title('Bar Plot of Column Name')\n",
    "plt.show()\n"
   ]
  },
  {
   "cell_type": "code",
   "execution_count": null,
   "metadata": {},
   "outputs": [],
   "source": [
    "# Scatter plot between two numerical columns\n",
    "plt.scatter(data['budget'], data['popularity'])\n",
    "plt.xlabel('Budget')\n",
    "plt.ylabel('Popularity')\n",
    "plt.title('Scatter Plot between Budget and Popularity')\n",
    "plt.show()\n",
    "\n",
    "# Box plot to visualize the distribution of a numerical column by a categorical column\n",
    "sns.boxplot(x='genres_1_name', y='budget', data=data)\n",
    "plt.xlabel('genres_1_name')\n",
    "plt.ylabel('Budget')\n",
    "plt.title('Box Plot of Budget by genres_1_name')\n",
    "plt.show()\n"
   ]
  },
  {
   "cell_type": "code",
   "execution_count": null,
   "metadata": {},
   "outputs": [],
   "source": [
    "\n",
    "# Select only numerical columns\n",
    "numerical_data = data.select_dtypes(include=['number'])\n",
    "\n",
    "# Correlation matrix for numerical columns\n",
    "correlation_matrix = numerical_data.corr()\n",
    "print(correlation_matrix)\n",
    "\n",
    "# Heatmap of the correlation matrix\n",
    "sns.heatmap(correlation_matrix, annot=True, cmap='coolwarm')\n",
    "plt.title('Correlation Heatmap for Numerical Columns')\n",
    "plt.show()\n"
   ]
  }
 ],
 "metadata": {
  "kernelspec": {
   "display_name": "Python 3",
   "language": "python",
   "name": "python3"
  },
  "language_info": {
   "codemirror_mode": {
    "name": "ipython",
    "version": 3
   },
   "file_extension": ".py",
   "mimetype": "text/x-python",
   "name": "python",
   "nbconvert_exporter": "python",
   "pygments_lexer": "ipython3",
   "version": "3.12.3"
  }
 },
 "nbformat": 4,
 "nbformat_minor": 2
}
